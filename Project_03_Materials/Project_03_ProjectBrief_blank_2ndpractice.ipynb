{
 "cells": [
  {
   "cell_type": "markdown",
   "metadata": {},
   "source": [
    "# Project 3: Data Cleaning - Tidy up messy Datasets (Movies Dataset)"
   ]
  },
  {
   "cell_type": "markdown",
   "metadata": {},
   "source": [
    "# Project Brief for Self-Coders"
   ]
  },
  {
   "cell_type": "markdown",
   "metadata": {},
   "source": [
    "Here you´ll have the opportunity to code major parts of Project 3 on your own. If you need any help or inspiration, have a look at the Videos or the Jupyter Notebook with the full code. <br> <br>\n",
    "Keep in mind that it´s all about __getting the right results/conclusions__. It´s not about finding the identical code. Things can be coded in many different ways. Even if you come to the same conclusions, it´s very unlikely that we have the very same code. "
   ]
  },
  {
   "cell_type": "markdown",
   "metadata": {},
   "source": [
    "## First Steps "
   ]
  },
  {
   "cell_type": "code",
   "execution_count": 40,
   "metadata": {},
   "outputs": [],
   "source": [
    "import pandas as pd"
   ]
  },
  {
   "cell_type": "markdown",
   "metadata": {},
   "source": [
    "1. __Load__ and __inspect__ the messy dataset __movies_metadata.csv__. Identify columns with nested / stringified json data."
   ]
  },
  {
   "cell_type": "code",
   "execution_count": 41,
   "metadata": {},
   "outputs": [
    {
     "name": "stderr",
     "output_type": "stream",
     "text": [
      "/Users/jason1602/anaconda3/lib/python3.7/site-packages/IPython/core/interactiveshell.py:3186: DtypeWarning: Columns (10) have mixed types.Specify dtype option on import or set low_memory=False.\n",
      "  interactivity=interactivity, compiler=compiler, result=result)\n"
     ]
    },
    {
     "data": {
      "text/html": [
       "<div>\n",
       "<style scoped>\n",
       "    .dataframe tbody tr th:only-of-type {\n",
       "        vertical-align: middle;\n",
       "    }\n",
       "\n",
       "    .dataframe tbody tr th {\n",
       "        vertical-align: top;\n",
       "    }\n",
       "\n",
       "    .dataframe thead th {\n",
       "        text-align: right;\n",
       "    }\n",
       "</style>\n",
       "<table border=\"1\" class=\"dataframe\">\n",
       "  <thead>\n",
       "    <tr style=\"text-align: right;\">\n",
       "      <th></th>\n",
       "      <th>adult</th>\n",
       "      <th>belongs_to_collection</th>\n",
       "      <th>budget</th>\n",
       "      <th>genres</th>\n",
       "      <th>homepage</th>\n",
       "      <th>imdb_id</th>\n",
       "      <th>original_language</th>\n",
       "      <th>original_title</th>\n",
       "      <th>overview</th>\n",
       "      <th>popularity</th>\n",
       "      <th>...</th>\n",
       "      <th>release_date</th>\n",
       "      <th>revenue</th>\n",
       "      <th>runtime</th>\n",
       "      <th>spoken_languages</th>\n",
       "      <th>status</th>\n",
       "      <th>tagline</th>\n",
       "      <th>title</th>\n",
       "      <th>video</th>\n",
       "      <th>vote_average</th>\n",
       "      <th>vote_count</th>\n",
       "    </tr>\n",
       "    <tr>\n",
       "      <th>id</th>\n",
       "      <th></th>\n",
       "      <th></th>\n",
       "      <th></th>\n",
       "      <th></th>\n",
       "      <th></th>\n",
       "      <th></th>\n",
       "      <th></th>\n",
       "      <th></th>\n",
       "      <th></th>\n",
       "      <th></th>\n",
       "      <th></th>\n",
       "      <th></th>\n",
       "      <th></th>\n",
       "      <th></th>\n",
       "      <th></th>\n",
       "      <th></th>\n",
       "      <th></th>\n",
       "      <th></th>\n",
       "      <th></th>\n",
       "      <th></th>\n",
       "      <th></th>\n",
       "    </tr>\n",
       "  </thead>\n",
       "  <tbody>\n",
       "    <tr>\n",
       "      <th>862</th>\n",
       "      <td>False</td>\n",
       "      <td>{'id': 10194, 'name': 'Toy Story Collection', ...</td>\n",
       "      <td>30000000</td>\n",
       "      <td>[{'id': 16, 'name': 'Animation'}, {'id': 35, '...</td>\n",
       "      <td>http://toystory.disney.com/toy-story</td>\n",
       "      <td>tt0114709</td>\n",
       "      <td>en</td>\n",
       "      <td>Toy Story</td>\n",
       "      <td>Led by Woody, Andy's toys live happily in his ...</td>\n",
       "      <td>21.9469</td>\n",
       "      <td>...</td>\n",
       "      <td>1995-10-30</td>\n",
       "      <td>373554033.0</td>\n",
       "      <td>81.0</td>\n",
       "      <td>[{'iso_639_1': 'en', 'name': 'English'}]</td>\n",
       "      <td>Released</td>\n",
       "      <td>NaN</td>\n",
       "      <td>Toy Story</td>\n",
       "      <td>False</td>\n",
       "      <td>7.7</td>\n",
       "      <td>5415.0</td>\n",
       "    </tr>\n",
       "    <tr>\n",
       "      <th>8844</th>\n",
       "      <td>False</td>\n",
       "      <td>NaN</td>\n",
       "      <td>65000000</td>\n",
       "      <td>[{'id': 12, 'name': 'Adventure'}, {'id': 14, '...</td>\n",
       "      <td>NaN</td>\n",
       "      <td>tt0113497</td>\n",
       "      <td>en</td>\n",
       "      <td>Jumanji</td>\n",
       "      <td>When siblings Judy and Peter discover an encha...</td>\n",
       "      <td>17.0155</td>\n",
       "      <td>...</td>\n",
       "      <td>1995-12-15</td>\n",
       "      <td>262797249.0</td>\n",
       "      <td>104.0</td>\n",
       "      <td>[{'iso_639_1': 'en', 'name': 'English'}, {'iso...</td>\n",
       "      <td>Released</td>\n",
       "      <td>Roll the dice and unleash the excitement!</td>\n",
       "      <td>Jumanji</td>\n",
       "      <td>False</td>\n",
       "      <td>6.9</td>\n",
       "      <td>2413.0</td>\n",
       "    </tr>\n",
       "  </tbody>\n",
       "</table>\n",
       "<p>2 rows × 23 columns</p>\n",
       "</div>"
      ],
      "text/plain": [
       "      adult                              belongs_to_collection    budget  \\\n",
       "id                                                                         \n",
       "862   False  {'id': 10194, 'name': 'Toy Story Collection', ...  30000000   \n",
       "8844  False                                                NaN  65000000   \n",
       "\n",
       "                                                 genres  \\\n",
       "id                                                        \n",
       "862   [{'id': 16, 'name': 'Animation'}, {'id': 35, '...   \n",
       "8844  [{'id': 12, 'name': 'Adventure'}, {'id': 14, '...   \n",
       "\n",
       "                                  homepage    imdb_id original_language  \\\n",
       "id                                                                        \n",
       "862   http://toystory.disney.com/toy-story  tt0114709                en   \n",
       "8844                                   NaN  tt0113497                en   \n",
       "\n",
       "     original_title                                           overview  \\\n",
       "id                                                                       \n",
       "862       Toy Story  Led by Woody, Andy's toys live happily in his ...   \n",
       "8844        Jumanji  When siblings Judy and Peter discover an encha...   \n",
       "\n",
       "     popularity  ... release_date      revenue runtime  \\\n",
       "id               ...                                     \n",
       "862     21.9469  ...   1995-10-30  373554033.0    81.0   \n",
       "8844    17.0155  ...   1995-12-15  262797249.0   104.0   \n",
       "\n",
       "                                       spoken_languages    status  \\\n",
       "id                                                                  \n",
       "862            [{'iso_639_1': 'en', 'name': 'English'}]  Released   \n",
       "8844  [{'iso_639_1': 'en', 'name': 'English'}, {'iso...  Released   \n",
       "\n",
       "                                        tagline      title  video  \\\n",
       "id                                                                  \n",
       "862                                         NaN  Toy Story  False   \n",
       "8844  Roll the dice and unleash the excitement!    Jumanji  False   \n",
       "\n",
       "     vote_average vote_count  \n",
       "id                            \n",
       "862           7.7     5415.0  \n",
       "8844          6.9     2413.0  \n",
       "\n",
       "[2 rows x 23 columns]"
      ]
     },
     "execution_count": 41,
     "metadata": {},
     "output_type": "execute_result"
    }
   ],
   "source": [
    "movies = pd.read_csv('movies_metadata.csv', index_col = 'id')\n",
    "movies.head(n =2)"
   ]
  },
  {
   "cell_type": "markdown",
   "metadata": {},
   "source": [
    "## Dropping irrelevant Columns"
   ]
  },
  {
   "cell_type": "markdown",
   "metadata": {},
   "source": [
    "2. __Drop__ the irrelevant columns 'adult', 'imdb_id', 'original_title', 'video' and 'homepage'."
   ]
  },
  {
   "cell_type": "code",
   "execution_count": 42,
   "metadata": {},
   "outputs": [
    {
     "data": {
      "text/html": [
       "<div>\n",
       "<style scoped>\n",
       "    .dataframe tbody tr th:only-of-type {\n",
       "        vertical-align: middle;\n",
       "    }\n",
       "\n",
       "    .dataframe tbody tr th {\n",
       "        vertical-align: top;\n",
       "    }\n",
       "\n",
       "    .dataframe thead th {\n",
       "        text-align: right;\n",
       "    }\n",
       "</style>\n",
       "<table border=\"1\" class=\"dataframe\">\n",
       "  <thead>\n",
       "    <tr style=\"text-align: right;\">\n",
       "      <th></th>\n",
       "      <th>belongs_to_collection</th>\n",
       "      <th>budget</th>\n",
       "      <th>genres</th>\n",
       "      <th>homepage</th>\n",
       "      <th>imdb_id</th>\n",
       "      <th>original_language</th>\n",
       "      <th>overview</th>\n",
       "      <th>popularity</th>\n",
       "      <th>poster_path</th>\n",
       "      <th>production_companies</th>\n",
       "      <th>production_countries</th>\n",
       "      <th>release_date</th>\n",
       "      <th>revenue</th>\n",
       "      <th>runtime</th>\n",
       "      <th>spoken_languages</th>\n",
       "      <th>status</th>\n",
       "      <th>tagline</th>\n",
       "      <th>video</th>\n",
       "      <th>vote_average</th>\n",
       "      <th>vote_count</th>\n",
       "    </tr>\n",
       "    <tr>\n",
       "      <th>id</th>\n",
       "      <th></th>\n",
       "      <th></th>\n",
       "      <th></th>\n",
       "      <th></th>\n",
       "      <th></th>\n",
       "      <th></th>\n",
       "      <th></th>\n",
       "      <th></th>\n",
       "      <th></th>\n",
       "      <th></th>\n",
       "      <th></th>\n",
       "      <th></th>\n",
       "      <th></th>\n",
       "      <th></th>\n",
       "      <th></th>\n",
       "      <th></th>\n",
       "      <th></th>\n",
       "      <th></th>\n",
       "      <th></th>\n",
       "      <th></th>\n",
       "    </tr>\n",
       "  </thead>\n",
       "  <tbody>\n",
       "    <tr>\n",
       "      <th>862</th>\n",
       "      <td>{'id': 10194, 'name': 'Toy Story Collection', ...</td>\n",
       "      <td>30000000</td>\n",
       "      <td>[{'id': 16, 'name': 'Animation'}, {'id': 35, '...</td>\n",
       "      <td>http://toystory.disney.com/toy-story</td>\n",
       "      <td>tt0114709</td>\n",
       "      <td>en</td>\n",
       "      <td>Led by Woody, Andy's toys live happily in his ...</td>\n",
       "      <td>21.9469</td>\n",
       "      <td>/rhIRbceoE9lR4veEXuwCC2wARtG.jpg</td>\n",
       "      <td>[{'name': 'Pixar Animation Studios', 'id': 3}]</td>\n",
       "      <td>[{'iso_3166_1': 'US', 'name': 'United States o...</td>\n",
       "      <td>1995-10-30</td>\n",
       "      <td>373554033.0</td>\n",
       "      <td>81.0</td>\n",
       "      <td>[{'iso_639_1': 'en', 'name': 'English'}]</td>\n",
       "      <td>Released</td>\n",
       "      <td>NaN</td>\n",
       "      <td>False</td>\n",
       "      <td>7.7</td>\n",
       "      <td>5415.0</td>\n",
       "    </tr>\n",
       "    <tr>\n",
       "      <th>8844</th>\n",
       "      <td>NaN</td>\n",
       "      <td>65000000</td>\n",
       "      <td>[{'id': 12, 'name': 'Adventure'}, {'id': 14, '...</td>\n",
       "      <td>NaN</td>\n",
       "      <td>tt0113497</td>\n",
       "      <td>en</td>\n",
       "      <td>When siblings Judy and Peter discover an encha...</td>\n",
       "      <td>17.0155</td>\n",
       "      <td>/vzmL6fP7aPKNKPRTFnZmiUfciyV.jpg</td>\n",
       "      <td>[{'name': 'TriStar Pictures', 'id': 559}, {'na...</td>\n",
       "      <td>[{'iso_3166_1': 'US', 'name': 'United States o...</td>\n",
       "      <td>1995-12-15</td>\n",
       "      <td>262797249.0</td>\n",
       "      <td>104.0</td>\n",
       "      <td>[{'iso_639_1': 'en', 'name': 'English'}, {'iso...</td>\n",
       "      <td>Released</td>\n",
       "      <td>Roll the dice and unleash the excitement!</td>\n",
       "      <td>False</td>\n",
       "      <td>6.9</td>\n",
       "      <td>2413.0</td>\n",
       "    </tr>\n",
       "  </tbody>\n",
       "</table>\n",
       "</div>"
      ],
      "text/plain": [
       "                                  belongs_to_collection    budget  \\\n",
       "id                                                                  \n",
       "862   {'id': 10194, 'name': 'Toy Story Collection', ...  30000000   \n",
       "8844                                                NaN  65000000   \n",
       "\n",
       "                                                 genres  \\\n",
       "id                                                        \n",
       "862   [{'id': 16, 'name': 'Animation'}, {'id': 35, '...   \n",
       "8844  [{'id': 12, 'name': 'Adventure'}, {'id': 14, '...   \n",
       "\n",
       "                                  homepage    imdb_id original_language  \\\n",
       "id                                                                        \n",
       "862   http://toystory.disney.com/toy-story  tt0114709                en   \n",
       "8844                                   NaN  tt0113497                en   \n",
       "\n",
       "                                               overview popularity  \\\n",
       "id                                                                   \n",
       "862   Led by Woody, Andy's toys live happily in his ...    21.9469   \n",
       "8844  When siblings Judy and Peter discover an encha...    17.0155   \n",
       "\n",
       "                           poster_path  \\\n",
       "id                                       \n",
       "862   /rhIRbceoE9lR4veEXuwCC2wARtG.jpg   \n",
       "8844  /vzmL6fP7aPKNKPRTFnZmiUfciyV.jpg   \n",
       "\n",
       "                                   production_companies  \\\n",
       "id                                                        \n",
       "862      [{'name': 'Pixar Animation Studios', 'id': 3}]   \n",
       "8844  [{'name': 'TriStar Pictures', 'id': 559}, {'na...   \n",
       "\n",
       "                                   production_countries release_date  \\\n",
       "id                                                                     \n",
       "862   [{'iso_3166_1': 'US', 'name': 'United States o...   1995-10-30   \n",
       "8844  [{'iso_3166_1': 'US', 'name': 'United States o...   1995-12-15   \n",
       "\n",
       "          revenue  runtime                                   spoken_languages  \\\n",
       "id                                                                              \n",
       "862   373554033.0     81.0           [{'iso_639_1': 'en', 'name': 'English'}]   \n",
       "8844  262797249.0    104.0  [{'iso_639_1': 'en', 'name': 'English'}, {'iso...   \n",
       "\n",
       "        status                                    tagline  video  \\\n",
       "id                                                                 \n",
       "862   Released                                        NaN  False   \n",
       "8844  Released  Roll the dice and unleash the excitement!  False   \n",
       "\n",
       "      vote_average  vote_count  \n",
       "id                              \n",
       "862            7.7      5415.0  \n",
       "8844           6.9      2413.0  "
      ]
     },
     "execution_count": 42,
     "metadata": {},
     "output_type": "execute_result"
    }
   ],
   "source": [
    "movies.drop(labels =['adult','title','original_title'], axis = 1, inplace = True)\n",
    "movies.head(n=2)"
   ]
  },
  {
   "cell_type": "markdown",
   "metadata": {},
   "source": [
    "## How to handle stringified JSON columns"
   ]
  },
  {
   "cell_type": "markdown",
   "metadata": {},
   "source": [
    "3. __Evaluate__ Python Expressions in the stringified columns [\"belongs_to_collection\", \"genres\", \"production_countries\", \"production_companies\", \"spoken_languages\"] and __remove quotes__ (\"\") where possible."
   ]
  },
  {
   "cell_type": "code",
   "execution_count": 43,
   "metadata": {},
   "outputs": [],
   "source": [
    "import ast"
   ]
  },
  {
   "cell_type": "code",
   "execution_count": 44,
   "metadata": {},
   "outputs": [],
   "source": [
    "movies['belongs_to_collection'] = movies.belongs_to_collection.map(ast.literal_eval,na_action ='ignore' )"
   ]
  },
  {
   "cell_type": "code",
   "execution_count": 45,
   "metadata": {},
   "outputs": [],
   "source": [
    "movies.genres =movies.genres.map(ast.literal_eval, na_action = 'ignore')"
   ]
  },
  {
   "cell_type": "code",
   "execution_count": 46,
   "metadata": {},
   "outputs": [],
   "source": [
    "movies.production_countries = movies.production_countries.map(ast.literal_eval, na_action = 'ignore')"
   ]
  },
  {
   "cell_type": "code",
   "execution_count": 47,
   "metadata": {},
   "outputs": [],
   "source": [
    "movies.spoken_languages = movies.spoken_languages.map(ast.literal_eval, na_action = 'ignore')"
   ]
  },
  {
   "cell_type": "markdown",
   "metadata": {},
   "source": [
    "## How to flatten nested Columns"
   ]
  },
  {
   "cell_type": "markdown",
   "metadata": {},
   "source": [
    "4. __Extract__ only the __collection name__ from the column \"belongs_to_collection\" and __overwrite__ \"belongs_to_collection\". <br> For example: The value in the first row (Toy Story) should be 'Toy Story Collection'."
   ]
  },
  {
   "cell_type": "code",
   "execution_count": 48,
   "metadata": {},
   "outputs": [],
   "source": [
    "# remove weird id\n",
    "movies = movies[~movies.index.str.contains('-')]"
   ]
  },
  {
   "cell_type": "code",
   "execution_count": 49,
   "metadata": {},
   "outputs": [],
   "source": [
    "movies['belongs_to_collection']=movies.belongs_to_collection.map(lambda x: x['name'], na_action = 'ignore')"
   ]
  },
  {
   "cell_type": "code",
   "execution_count": 50,
   "metadata": {},
   "outputs": [
    {
     "data": {
      "text/html": [
       "<div>\n",
       "<style scoped>\n",
       "    .dataframe tbody tr th:only-of-type {\n",
       "        vertical-align: middle;\n",
       "    }\n",
       "\n",
       "    .dataframe tbody tr th {\n",
       "        vertical-align: top;\n",
       "    }\n",
       "\n",
       "    .dataframe thead th {\n",
       "        text-align: right;\n",
       "    }\n",
       "</style>\n",
       "<table border=\"1\" class=\"dataframe\">\n",
       "  <thead>\n",
       "    <tr style=\"text-align: right;\">\n",
       "      <th></th>\n",
       "      <th>belongs_to_collection</th>\n",
       "      <th>budget</th>\n",
       "      <th>genres</th>\n",
       "      <th>homepage</th>\n",
       "      <th>imdb_id</th>\n",
       "      <th>original_language</th>\n",
       "      <th>overview</th>\n",
       "      <th>popularity</th>\n",
       "      <th>poster_path</th>\n",
       "      <th>production_companies</th>\n",
       "      <th>production_countries</th>\n",
       "      <th>release_date</th>\n",
       "      <th>revenue</th>\n",
       "      <th>runtime</th>\n",
       "      <th>spoken_languages</th>\n",
       "      <th>status</th>\n",
       "      <th>tagline</th>\n",
       "      <th>video</th>\n",
       "      <th>vote_average</th>\n",
       "      <th>vote_count</th>\n",
       "    </tr>\n",
       "    <tr>\n",
       "      <th>id</th>\n",
       "      <th></th>\n",
       "      <th></th>\n",
       "      <th></th>\n",
       "      <th></th>\n",
       "      <th></th>\n",
       "      <th></th>\n",
       "      <th></th>\n",
       "      <th></th>\n",
       "      <th></th>\n",
       "      <th></th>\n",
       "      <th></th>\n",
       "      <th></th>\n",
       "      <th></th>\n",
       "      <th></th>\n",
       "      <th></th>\n",
       "      <th></th>\n",
       "      <th></th>\n",
       "      <th></th>\n",
       "      <th></th>\n",
       "      <th></th>\n",
       "    </tr>\n",
       "  </thead>\n",
       "  <tbody>\n",
       "    <tr>\n",
       "      <th>862</th>\n",
       "      <td>Toy Story Collection</td>\n",
       "      <td>30000000</td>\n",
       "      <td>[{'id': 16, 'name': 'Animation'}, {'id': 35, '...</td>\n",
       "      <td>http://toystory.disney.com/toy-story</td>\n",
       "      <td>tt0114709</td>\n",
       "      <td>en</td>\n",
       "      <td>Led by Woody, Andy's toys live happily in his ...</td>\n",
       "      <td>21.9469</td>\n",
       "      <td>/rhIRbceoE9lR4veEXuwCC2wARtG.jpg</td>\n",
       "      <td>[{'name': 'Pixar Animation Studios', 'id': 3}]</td>\n",
       "      <td>[{'iso_3166_1': 'US', 'name': 'United States o...</td>\n",
       "      <td>1995-10-30</td>\n",
       "      <td>373554033.0</td>\n",
       "      <td>81.0</td>\n",
       "      <td>[{'iso_639_1': 'en', 'name': 'English'}]</td>\n",
       "      <td>Released</td>\n",
       "      <td>NaN</td>\n",
       "      <td>False</td>\n",
       "      <td>7.7</td>\n",
       "      <td>5415.0</td>\n",
       "    </tr>\n",
       "    <tr>\n",
       "      <th>8844</th>\n",
       "      <td>NaN</td>\n",
       "      <td>65000000</td>\n",
       "      <td>[{'id': 12, 'name': 'Adventure'}, {'id': 14, '...</td>\n",
       "      <td>NaN</td>\n",
       "      <td>tt0113497</td>\n",
       "      <td>en</td>\n",
       "      <td>When siblings Judy and Peter discover an encha...</td>\n",
       "      <td>17.0155</td>\n",
       "      <td>/vzmL6fP7aPKNKPRTFnZmiUfciyV.jpg</td>\n",
       "      <td>[{'name': 'TriStar Pictures', 'id': 559}, {'na...</td>\n",
       "      <td>[{'iso_3166_1': 'US', 'name': 'United States o...</td>\n",
       "      <td>1995-12-15</td>\n",
       "      <td>262797249.0</td>\n",
       "      <td>104.0</td>\n",
       "      <td>[{'iso_639_1': 'en', 'name': 'English'}, {'iso...</td>\n",
       "      <td>Released</td>\n",
       "      <td>Roll the dice and unleash the excitement!</td>\n",
       "      <td>False</td>\n",
       "      <td>6.9</td>\n",
       "      <td>2413.0</td>\n",
       "    </tr>\n",
       "  </tbody>\n",
       "</table>\n",
       "</div>"
      ],
      "text/plain": [
       "     belongs_to_collection    budget  \\\n",
       "id                                     \n",
       "862   Toy Story Collection  30000000   \n",
       "8844                   NaN  65000000   \n",
       "\n",
       "                                                 genres  \\\n",
       "id                                                        \n",
       "862   [{'id': 16, 'name': 'Animation'}, {'id': 35, '...   \n",
       "8844  [{'id': 12, 'name': 'Adventure'}, {'id': 14, '...   \n",
       "\n",
       "                                  homepage    imdb_id original_language  \\\n",
       "id                                                                        \n",
       "862   http://toystory.disney.com/toy-story  tt0114709                en   \n",
       "8844                                   NaN  tt0113497                en   \n",
       "\n",
       "                                               overview popularity  \\\n",
       "id                                                                   \n",
       "862   Led by Woody, Andy's toys live happily in his ...    21.9469   \n",
       "8844  When siblings Judy and Peter discover an encha...    17.0155   \n",
       "\n",
       "                           poster_path  \\\n",
       "id                                       \n",
       "862   /rhIRbceoE9lR4veEXuwCC2wARtG.jpg   \n",
       "8844  /vzmL6fP7aPKNKPRTFnZmiUfciyV.jpg   \n",
       "\n",
       "                                   production_companies  \\\n",
       "id                                                        \n",
       "862      [{'name': 'Pixar Animation Studios', 'id': 3}]   \n",
       "8844  [{'name': 'TriStar Pictures', 'id': 559}, {'na...   \n",
       "\n",
       "                                   production_countries release_date  \\\n",
       "id                                                                     \n",
       "862   [{'iso_3166_1': 'US', 'name': 'United States o...   1995-10-30   \n",
       "8844  [{'iso_3166_1': 'US', 'name': 'United States o...   1995-12-15   \n",
       "\n",
       "          revenue  runtime                                   spoken_languages  \\\n",
       "id                                                                              \n",
       "862   373554033.0     81.0           [{'iso_639_1': 'en', 'name': 'English'}]   \n",
       "8844  262797249.0    104.0  [{'iso_639_1': 'en', 'name': 'English'}, {'iso...   \n",
       "\n",
       "        status                                    tagline  video  \\\n",
       "id                                                                 \n",
       "862   Released                                        NaN  False   \n",
       "8844  Released  Roll the dice and unleash the excitement!  False   \n",
       "\n",
       "      vote_average  vote_count  \n",
       "id                              \n",
       "862            7.7      5415.0  \n",
       "8844           6.9      2413.0  "
      ]
     },
     "execution_count": 50,
     "metadata": {},
     "output_type": "execute_result"
    }
   ],
   "source": [
    "movies.head(n=2)"
   ]
  },
  {
   "cell_type": "markdown",
   "metadata": {},
   "source": [
    "5. __Extract__ all __genre names__ from the column \"genres\" and __overwrite__ \"genres\". If a movie has more than one genre, __seperate genres by a pipe__ \"|\".<br>\n",
    "For example: The value in the first row (Toy Story) should be 'Animation|Comedy|Family'."
   ]
  },
  {
   "cell_type": "code",
   "execution_count": 64,
   "metadata": {},
   "outputs": [],
   "source": [
    "def flatten(df, col):\n",
    "    genres_ser = []\n",
    "    for genres_dict in df[col]:\n",
    "        genres_list = []\n",
    "        if type(genres_dict) == float:\n",
    "            pass\n",
    "        else:\n",
    "            for genre in genres_dict:\n",
    "                genres_list.append(genre['name'])\n",
    "        genres_list = '|'.join(genres_list)\n",
    "        genres_ser.append(genres_list)\n",
    "    return genres_ser"
   ]
  },
  {
   "cell_type": "code",
   "execution_count": 65,
   "metadata": {},
   "outputs": [],
   "source": [
    "def test1(df, col):\n",
    "    return df[col][0]"
   ]
  },
  {
   "cell_type": "code",
   "execution_count": 66,
   "metadata": {},
   "outputs": [
    {
     "data": {
      "text/plain": [
       "[{'id': 16, 'name': 'Animation'},\n",
       " {'id': 35, 'name': 'Comedy'},\n",
       " {'id': 10751, 'name': 'Family'}]"
      ]
     },
     "execution_count": 66,
     "metadata": {},
     "output_type": "execute_result"
    }
   ],
   "source": [
    "test1(movies, 'genres')"
   ]
  },
  {
   "cell_type": "code",
   "execution_count": 67,
   "metadata": {},
   "outputs": [
    {
     "data": {
      "text/plain": [
       "id\n",
       "862       [{'id': 16, 'name': 'Animation'}, {'id': 35, '...\n",
       "8844      [{'id': 12, 'name': 'Adventure'}, {'id': 14, '...\n",
       "15602     [{'id': 10749, 'name': 'Romance'}, {'id': 35, ...\n",
       "31357     [{'id': 35, 'name': 'Comedy'}, {'id': 18, 'nam...\n",
       "11862                        [{'id': 35, 'name': 'Comedy'}]\n",
       "                                ...                        \n",
       "439050    [{'id': 18, 'name': 'Drama'}, {'id': 10751, 'n...\n",
       "111109                        [{'id': 18, 'name': 'Drama'}]\n",
       "67758     [{'id': 28, 'name': 'Action'}, {'id': 18, 'nam...\n",
       "227506                                                   []\n",
       "461257                                                   []\n",
       "Name: genres, Length: 45463, dtype: object"
      ]
     },
     "execution_count": 67,
     "metadata": {},
     "output_type": "execute_result"
    }
   ],
   "source": [
    "movies.genres"
   ]
  },
  {
   "cell_type": "code",
   "execution_count": 68,
   "metadata": {},
   "outputs": [
    {
     "data": {
      "text/plain": [
       "id\n",
       "862        Animation|Comedy|Family\n",
       "8844      Adventure|Fantasy|Family\n",
       "15602               Romance|Comedy\n",
       "31357         Comedy|Drama|Romance\n",
       "11862                       Comedy\n",
       "                    ...           \n",
       "439050                Drama|Family\n",
       "111109                       Drama\n",
       "67758        Action|Drama|Thriller\n",
       "227506                            \n",
       "461257                            \n",
       "Name: genres, Length: 45463, dtype: object"
      ]
     },
     "execution_count": 68,
     "metadata": {},
     "output_type": "execute_result"
    }
   ],
   "source": [
    "movies['genres'] = flatten(movies, 'genres')\n",
    "movies.genres"
   ]
  },
  {
   "cell_type": "markdown",
   "metadata": {},
   "source": [
    "6. __Extract__ all __spoken language names__ from the column \"spoken_languages\" and __overwrite__ \"spoken_languages\". If a movie has more than one spoken language, __seperate spoken languages by a pipe__ \"|\".<br>\n",
    "For example: The value in the first row (Toy Story) should be 'English'."
   ]
  },
  {
   "cell_type": "code",
   "execution_count": 69,
   "metadata": {},
   "outputs": [
    {
     "data": {
      "text/plain": [
       "id\n",
       "862                [{'iso_639_1': 'en', 'name': 'English'}]\n",
       "8844      [{'iso_639_1': 'en', 'name': 'English'}, {'iso...\n",
       "15602              [{'iso_639_1': 'en', 'name': 'English'}]\n",
       "31357              [{'iso_639_1': 'en', 'name': 'English'}]\n",
       "11862              [{'iso_639_1': 'en', 'name': 'English'}]\n",
       "                                ...                        \n",
       "439050               [{'iso_639_1': 'fa', 'name': 'فارسی'}]\n",
       "111109                    [{'iso_639_1': 'tl', 'name': ''}]\n",
       "67758              [{'iso_639_1': 'en', 'name': 'English'}]\n",
       "227506                                                   []\n",
       "461257             [{'iso_639_1': 'en', 'name': 'English'}]\n",
       "Name: spoken_languages, Length: 45463, dtype: object"
      ]
     },
     "execution_count": 69,
     "metadata": {},
     "output_type": "execute_result"
    }
   ],
   "source": [
    "movies.spoken_languages"
   ]
  },
  {
   "cell_type": "code",
   "execution_count": 70,
   "metadata": {},
   "outputs": [],
   "source": [
    "movies['spoken_languages'] = flatten(movies, 'spoken_languages')"
   ]
  },
  {
   "cell_type": "code",
   "execution_count": 71,
   "metadata": {},
   "outputs": [
    {
     "data": {
      "text/plain": [
       "id\n",
       "862                English\n",
       "8844      English|Français\n",
       "15602              English\n",
       "31357              English\n",
       "11862              English\n",
       "                ...       \n",
       "439050               فارسی\n",
       "111109                    \n",
       "67758              English\n",
       "227506                    \n",
       "461257             English\n",
       "Name: spoken_languages, Length: 45463, dtype: object"
      ]
     },
     "execution_count": 71,
     "metadata": {},
     "output_type": "execute_result"
    }
   ],
   "source": [
    "movies.spoken_languages"
   ]
  },
  {
   "cell_type": "markdown",
   "metadata": {},
   "source": [
    "7. __Extract__ all __production countries names__ from the column \"production_countries\" and __overwrite__ \"production_countries\". If a movie has more than one production country, __seperate production countries by a pipe__ \"|\".<br>\n",
    "For example: The value in the first row (Toy Story) should be 'United States of America'."
   ]
  },
  {
   "cell_type": "code",
   "execution_count": 72,
   "metadata": {},
   "outputs": [],
   "source": [
    "movies['production_countries'] = flatten(movies,'production_countries')"
   ]
  },
  {
   "cell_type": "code",
   "execution_count": 74,
   "metadata": {},
   "outputs": [
    {
     "data": {
      "text/plain": [
       "id\n",
       "862       United States of America\n",
       "8844      United States of America\n",
       "15602     United States of America\n",
       "31357     United States of America\n",
       "11862     United States of America\n",
       "                    ...           \n",
       "439050                        Iran\n",
       "111109                 Philippines\n",
       "67758     United States of America\n",
       "227506                      Russia\n",
       "461257              United Kingdom\n",
       "Name: production_countries, Length: 45463, dtype: object"
      ]
     },
     "execution_count": 74,
     "metadata": {},
     "output_type": "execute_result"
    }
   ],
   "source": [
    "movies.production_countries"
   ]
  },
  {
   "cell_type": "markdown",
   "metadata": {},
   "source": [
    "8. __Extract__ all __production companies names__ from the column \"production_companies\" and __overwrite__ \"production_companies\". If a movie has more than one production company, __seperate production companies by a pipe__ \"|\".<br>\n",
    "For example: The value in the first row (Toy Story) should be 'Pixar Animation Studios'"
   ]
  },
  {
   "cell_type": "code",
   "execution_count": null,
   "metadata": {},
   "outputs": [],
   "source": []
  },
  {
   "cell_type": "markdown",
   "metadata": {},
   "source": [
    "9. __Inspect__ all columns above with value_counts(). Do you see anything strange? __Take reasonable measures__!"
   ]
  },
  {
   "cell_type": "code",
   "execution_count": null,
   "metadata": {},
   "outputs": [],
   "source": []
  },
  {
   "cell_type": "markdown",
   "metadata": {},
   "source": [
    "## Cleaning Numerical Columns"
   ]
  },
  {
   "cell_type": "markdown",
   "metadata": {},
   "source": [
    "10. __Convert__ the datatype in the columns __\"budget\"__, __\"id\"__ and __\"popularity\"__ __to numeric__. Set invalid values as NaN."
   ]
  },
  {
   "cell_type": "markdown",
   "metadata": {},
   "source": [
    "11. __Analyze__ the columns __\"budget\"__ and __\"revenue\"__ and __\"runtime\"__. Analyze movies with a budget/revenue/runtime of 0. Do you think the value 0 is the most appropriate value? __Take reasonable measures__! "
   ]
  },
  {
   "cell_type": "markdown",
   "metadata": {},
   "source": [
    "12. The columns \"budget\" and \"revenue\" shall show values in Million USD. __Convert and Overwrite__!"
   ]
  },
  {
   "cell_type": "markdown",
   "metadata": {},
   "source": [
    "13. __Analyze__ movies with a __vote_count of 0__. What´s the __vote_average__ for those movies? Do you think this value is the most appropriate value? __Take reasonable measures__!"
   ]
  },
  {
   "cell_type": "code",
   "execution_count": null,
   "metadata": {},
   "outputs": [],
   "source": []
  },
  {
   "cell_type": "markdown",
   "metadata": {},
   "source": [
    "## Cleaning DateTime Columns"
   ]
  },
  {
   "cell_type": "markdown",
   "metadata": {},
   "source": [
    "14. __Convert__ the datatype in the column __\"release_date\"__ __to datetime__. Set invalid values as NaN."
   ]
  },
  {
   "cell_type": "code",
   "execution_count": null,
   "metadata": {},
   "outputs": [],
   "source": []
  },
  {
   "cell_type": "markdown",
   "metadata": {},
   "source": [
    "## Cleaning Text / String Columns"
   ]
  },
  {
   "cell_type": "markdown",
   "metadata": {},
   "source": [
    "15. __Analyze__ the text columns \"overview\" and \"tagline\". Try to identify __missing data that is not represented by NaN__ (e.g. \"No Data\"). __Replace as NaN__ (np.nan)!"
   ]
  },
  {
   "cell_type": "code",
   "execution_count": null,
   "metadata": {},
   "outputs": [],
   "source": []
  },
  {
   "cell_type": "markdown",
   "metadata": {},
   "source": [
    "## Removing Duplicates"
   ]
  },
  {
   "cell_type": "markdown",
   "metadata": {},
   "source": [
    "16. __Identify__ and __remove__ duplicates!"
   ]
  },
  {
   "cell_type": "code",
   "execution_count": null,
   "metadata": {},
   "outputs": [],
   "source": []
  },
  {
   "cell_type": "markdown",
   "metadata": {},
   "source": [
    "## Handling Missing Values & Removing Observations"
   ]
  },
  {
   "cell_type": "markdown",
   "metadata": {},
   "source": [
    "17. __Drop__ all rows/movies with unknown __id__ or __title__."
   ]
  },
  {
   "cell_type": "markdown",
   "metadata": {},
   "source": [
    "18. __Keep__ only those rows/movies in the df with __10 or more non-NaN__ values."
   ]
  },
  {
   "cell_type": "code",
   "execution_count": null,
   "metadata": {},
   "outputs": [],
   "source": []
  },
  {
   "cell_type": "markdown",
   "metadata": {},
   "source": [
    "## Final (Cleaning) Steps"
   ]
  },
  {
   "cell_type": "markdown",
   "metadata": {},
   "source": [
    "19. __Keep__ only those rows/movies in the df with __status \"Released\"__. Then __drop__ the column \"status\"."
   ]
  },
  {
   "cell_type": "markdown",
   "metadata": {},
   "source": [
    "20. The Order of the columns should be as follows: "
   ]
  },
  {
   "cell_type": "code",
   "execution_count": null,
   "metadata": {},
   "outputs": [],
   "source": [
    "[\"id\", \"title\", \"tagline\", \"release_date\", \"genres\", \"belongs_to_collection\", \n",
    "\"original_language\", \"budget_musd\", \"revenue_musd\", \"production_companies\",\n",
    "\"production_countries\", \"vote_count\", \"vote_average\", \"popularity\", \"runtime\",\n",
    "\"overview\", \"spoken_languages\", \"poster_path\"]"
   ]
  },
  {
   "cell_type": "markdown",
   "metadata": {},
   "source": [
    "21. __Reset__ the Index and create a __RangeIndex__."
   ]
  },
  {
   "cell_type": "markdown",
   "metadata": {},
   "source": [
    "22. __Save__ the cleaned dataset in a __csv-file__."
   ]
  },
  {
   "cell_type": "code",
   "execution_count": null,
   "metadata": {},
   "outputs": [],
   "source": []
  },
  {
   "cell_type": "markdown",
   "metadata": {},
   "source": [
    "# +++++++++ See some Hints below +++++++++++++"
   ]
  },
  {
   "cell_type": "code",
   "execution_count": null,
   "metadata": {},
   "outputs": [],
   "source": []
  },
  {
   "cell_type": "code",
   "execution_count": null,
   "metadata": {},
   "outputs": [],
   "source": []
  },
  {
   "cell_type": "code",
   "execution_count": null,
   "metadata": {},
   "outputs": [],
   "source": []
  },
  {
   "cell_type": "code",
   "execution_count": null,
   "metadata": {},
   "outputs": [],
   "source": []
  },
  {
   "cell_type": "markdown",
   "metadata": {},
   "source": [
    "# ++++++++++++++++ Hints++++++++++++++++++++"
   ]
  },
  {
   "cell_type": "code",
   "execution_count": null,
   "metadata": {},
   "outputs": [],
   "source": []
  },
  {
   "cell_type": "markdown",
   "metadata": {},
   "source": [
    "__Hints for 3.__ <br>\n",
    "apply ast.literal_eval() on all stringified elements (you have to import ast):"
   ]
  },
  {
   "cell_type": "code",
   "execution_count": null,
   "metadata": {},
   "outputs": [],
   "source": [
    "# example:\n",
    "df.stringified_column = df.stringified_column.apply(lambda x: ast.literal_eval(x) if isinstance(x, str) else np.nan)"
   ]
  },
  {
   "cell_type": "code",
   "execution_count": null,
   "metadata": {},
   "outputs": [],
   "source": []
  },
  {
   "cell_type": "markdown",
   "metadata": {},
   "source": [
    "__Hints for 4., 5., 6., 7., 8.__<br> \n",
    "apply an appropriate lambda function on all column elements"
   ]
  },
  {
   "cell_type": "code",
   "execution_count": null,
   "metadata": {},
   "outputs": [],
   "source": []
  },
  {
   "cell_type": "markdown",
   "metadata": {},
   "source": [
    "__Hints for 9.__<br>\n",
    "Replace all __\"\"__ (empty strings) in the above columns by NaN (__np.nan__)"
   ]
  },
  {
   "cell_type": "code",
   "execution_count": null,
   "metadata": {},
   "outputs": [],
   "source": []
  },
  {
   "cell_type": "markdown",
   "metadata": {},
   "source": [
    "__Hints for 10.__<br>\n",
    "Use pd.to_numeric() and \"coerce\" errors"
   ]
  },
  {
   "cell_type": "code",
   "execution_count": null,
   "metadata": {},
   "outputs": [],
   "source": []
  },
  {
   "cell_type": "markdown",
   "metadata": {},
   "source": [
    "__Hints for 11.__<br>\n",
    "Replace the value 0 by NaN (__np.nan__)"
   ]
  },
  {
   "cell_type": "code",
   "execution_count": null,
   "metadata": {},
   "outputs": [],
   "source": []
  },
  {
   "cell_type": "markdown",
   "metadata": {},
   "source": [
    "__Hints for 13.__<br>\n",
    "Replace the value 0 by NaN (__np.nan__)"
   ]
  },
  {
   "cell_type": "code",
   "execution_count": null,
   "metadata": {},
   "outputs": [],
   "source": []
  },
  {
   "cell_type": "markdown",
   "metadata": {},
   "source": [
    "__Hints for 14.__<br>\n",
    "Use pd.to_datetime() and \"coerce\" errors"
   ]
  },
  {
   "cell_type": "code",
   "execution_count": null,
   "metadata": {},
   "outputs": [],
   "source": []
  },
  {
   "cell_type": "markdown",
   "metadata": {},
   "source": [
    "__Hints for 16.__<br>\n",
    "There cannot be two or more movies with the same movie id."
   ]
  },
  {
   "cell_type": "code",
   "execution_count": null,
   "metadata": {},
   "outputs": [],
   "source": []
  }
 ],
 "metadata": {
  "kernelspec": {
   "display_name": "Python 3 (ipykernel)",
   "language": "python",
   "name": "python3"
  },
  "language_info": {
   "codemirror_mode": {
    "name": "ipython",
    "version": 3
   },
   "file_extension": ".py",
   "mimetype": "text/x-python",
   "name": "python",
   "nbconvert_exporter": "python",
   "pygments_lexer": "ipython3",
   "version": "3.7.3"
  }
 },
 "nbformat": 4,
 "nbformat_minor": 2
}
